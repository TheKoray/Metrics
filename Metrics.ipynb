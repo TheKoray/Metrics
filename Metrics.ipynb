{
  "nbformat": 4,
  "nbformat_minor": 0,
  "metadata": {
    "colab": {
      "name": "Metrics.ipynb",
      "provenance": [],
      "toc_visible": true,
      "authorship_tag": "ABX9TyNrrFzGXvxJFtp+NDvX2xjo",
      "include_colab_link": true
    },
    "kernelspec": {
      "name": "python3",
      "display_name": "Python 3"
    },
    "language_info": {
      "name": "python"
    }
  },
  "cells": [
    {
      "cell_type": "markdown",
      "metadata": {
        "id": "view-in-github",
        "colab_type": "text"
      },
      "source": [
        "<a href=\"https://colab.research.google.com/github/TheKoray18/Metrics/blob/main/Metrics.ipynb\" target=\"_parent\"><img src=\"https://colab.research.google.com/assets/colab-badge.svg\" alt=\"Open In Colab\"/></a>"
      ]
    },
    {
      "cell_type": "code",
      "metadata": {
        "id": "dxqV4n54x9yO"
      },
      "source": [
        "import numpy as np"
      ],
      "execution_count": null,
      "outputs": []
    },
    {
      "cell_type": "markdown",
      "metadata": {
        "id": "kLPhjs1fA2bw"
      },
      "source": [
        "# Metrics Class"
      ]
    },
    {
      "cell_type": "code",
      "metadata": {
        "id": "cgzQcuACz43j"
      },
      "source": [
        "class KyMetrics():\n",
        "\n",
        "  def MeanSquared(self,data_y,data_pred):\n",
        "\n",
        "    self.mse_diff = []\n",
        "    self.mse_sum = 0\n",
        "    self.mean_result = 0\n",
        "\n",
        "    if data_y.shape == data_pred.shape:\n",
        "\n",
        "      for i in range(len(data_pred)):\n",
        "\n",
        "        self.fark = np.subtract(data_y[i],data_pred[i])\n",
        "        self.mse_diff.append(np.power(self.fark,2))\n",
        "\n",
        "      for j in self.mse_diff:\n",
        "\n",
        "        self.mse_sum +=j\n",
        "      self.mean_result = np.divide(self.mse_sum,len(self.mse_diff))  \n",
        "\n",
        "    else:\n",
        "      print(f\"{'data_y'} and {'data_pred'} Shape is not same!\")    \n",
        "\n",
        "    return f\"{self.mean_result}\"\n",
        "    \n",
        "  def RootMeanSquared(self,data_y,data_pred):\n",
        "    \n",
        "    self.root_diff = []\n",
        "    self.root_sum = 0\n",
        "    self.root_result = 0\n",
        "\n",
        "    if data_y.shape == data_pred.shape:\n",
        "\n",
        "       for i in range(len(data_pred)):\n",
        "\n",
        "        self.fark = np.subtract(data_y[i],data_pred[i])\n",
        "        self.root_diff.append(np.power(self.fark,2))\n",
        "\n",
        "       for j in self.root_diff:\n",
        "         \n",
        "         self.root_sum +=j\n",
        "       self.root_result = np.divide(self.root_sum,len(self.root_diff))\n",
        "       self.root_result = np.sqrt(self.root_result)   \n",
        "\n",
        "    else:\n",
        "      print(\"data_y and data_pred Shapes are not Same!\")\n",
        "\n",
        "    return f\"{self.root_result}\"\n",
        "  \n",
        "  def MeanAbsoluteError(self,data_y,data_pred):\n",
        "\n",
        "    self.mae_diff = []\n",
        "    self.mae_sum = 0\n",
        "    self.absolute_result = 0\n",
        "\n",
        "    if data_y.shape == data_pred.shape:\n",
        "\n",
        "      for i in range(len(data_y)):\n",
        "\n",
        "        self.fark_mae = np.subtract(data_y[i],data_pred[i])\n",
        "        self.mae_diff.append(np.absolute(self.fark_mae))\n",
        "\n",
        "      for j in self.mae_diff:\n",
        "\n",
        "        self.mae_sum +=j\n",
        "      self.absolute_result = np.divide(self.mae_sum,len(data_y))\n",
        "      \n",
        "    else:\n",
        "      print(f\"{'data_y'} and {'data_pred'} Shape is not same!\")\n",
        "      \n",
        "    return f\"{self.absolute_result}\" \n",
        "\n",
        "  def MeanSquaredLog(self,data_y,data_pred):\n",
        "    self.log_diff = []\n",
        "    self.log_sum = 0\n",
        "    self.log_result = 0\n",
        "\n",
        "    if data_y.shape == data_pred.shape:\n",
        "\n",
        "      for i in range(len(data_pred)):\n",
        "\n",
        "        self.fark = np.subtract(np.log(data_y[i] + 1), np.log(data_pred[i] + 1))\n",
        "        self.log_diff.append(np.power(self.fark, 2))\n",
        "\n",
        "      for j in self.log_diff:\n",
        "\n",
        "        self.log_sum +=j\n",
        "      self.log_result = np.divide(self.log_sum, len(self.log_diff))\n",
        "\n",
        "    else:\n",
        "      print(\"data_y and data_pred Shape are not Same!\")\n",
        "\n",
        "    return f\"{self.log_result}\"  \n",
        "\n",
        "  def R2Score(self,data_y,data_pred):\n",
        "\n",
        "    self.r2_diff = []\n",
        "    self.r2_sum = 0\n",
        "    self.r2_result = 0\n",
        "    self.pred_ort = np.mean(data_pred)\n",
        "    self.ort_diff = []\n",
        "    self.ort_sum = 0\n",
        "    self.ort_result = 0\n",
        "\n",
        "    if data_y.shape == data_pred.shape:\n",
        "\n",
        "      for i in range(len(data_pred)):\n",
        "        self.fark = np.subtract(data_y[i], data_pred[i])\n",
        "        self.r2_diff.append(np.power(self.fark, 2))\n",
        "      \n",
        "      for j in self.r2_diff:\n",
        "        self.r2_sum +=j\n",
        "      self.r2_result = self.r2_sum\n",
        "\n",
        "      for k in range(len(data_pred)):\n",
        "        self.ort_fark = np.subtract(data_y[k], self.pred_ort)\n",
        "        self.ort_diff.append(np.power(self.ort_fark, 2))\n",
        "\n",
        "      for v in self.ort_diff:\n",
        "        self.ort_sum +=v\n",
        "      self.ort_result = self.ort_sum\n",
        "\n",
        "      self.R2_Score = np.subtract(1, np.divide(self.r2_result, self.ort_result))\n",
        "\n",
        "    else:\n",
        "      print(\"data_y and data_pred Shapes are not Same!\")\n",
        "\n",
        "    return f\"{self.R2_Score}\"\n",
        "  \n",
        "  def Variance_Score(self,data_y,data_pred):\n",
        "\n",
        "    if data_y.shape == data_pred.shape:\n",
        "      \n",
        "      self.fark_var = 0\n",
        "      self.var_data_y = np.var(data_y)\n",
        "      self.diff_var = []\n",
        "      self.diff_result = 0\n",
        "\n",
        "      for i in range(len(data_pred)):\n",
        "        \n",
        "        self.fark_var = np.subtract(data_y[i], data_pred[i])\n",
        "        self.diff_var.append(self.fark_var)\n",
        "        self.diff_result = np.var(self.diff_var)\n",
        "      self.var_result = np.subtract(1, np.divide(self.diff_result, self.var_data_y))\n",
        "    else:\n",
        "      print(\"data_y and data_pred Shapes ara not Same!\")\n",
        "    \n",
        "    return f\"{self.var_result}\"\n",
        "  \n",
        "  def Max_Error(self,data_y,data_pred):\n",
        "\n",
        "    if data_y.shape == data_pred.shape:\n",
        "      self.max_result = 0 \n",
        "      self.diff_max = []\n",
        "\n",
        "      for i in range(len(data_pred)):\n",
        "        self.fark_max = np.subtract(data_y[i], data_pred[i])\n",
        "        self.diff_max.append(np.abs(self.fark_max))\n",
        "      self.max_result = np.max(self.diff_max)\n",
        "\n",
        "    else:\n",
        "      print(\"data_y and data_pred Shapes are not Same!\")\n",
        "    \n",
        "    return f\"{self.max_result}\"\n",
        "\n",
        "  def Mean_Gamma(self,data_y,data_pred):\n",
        "\n",
        "    if data_y.shape == data_pred.shape:\n",
        "      self.gamma_result = 0 \n",
        "      self.diff_gamma = []\n",
        "\n",
        "      for i in range(len(data_pred)):\n",
        "\n",
        "        self.gamma_divide = np.divide(data_pred[i], data_y[i])\n",
        "        self.gamma_divide_2 = np.divide(data_y[i],data_pred[i]) - 1\n",
        "        self.gamma_sum = (np.log(self.gamma_divide) + (self.gamma_divide_2)) * 2\n",
        "        self.diff_gamma.append(self.gamma_sum)\n",
        "\n",
        "      for j in self.diff_gamma:\n",
        "        self.gamma_result +=j\n",
        "      self.gamma_result = np.divide(self.gamma_result, len(data_pred)) \n",
        "    else:\n",
        "      print(\"data_y and data_pred Shapes are not Same!\")\n",
        "\n",
        "    return f\"{self.gamma_result}\"\n",
        "\n",
        "  def Poisson_Deviance(self,data_y,data_pred):\n",
        "\n",
        "    if data_y.shape == data_pred.shape:\n",
        "      self.poi_result = 0\n",
        "      self.poi_diff = []\n",
        "\n",
        "      for i in range(len(data_pred)):\n",
        "\n",
        "        self.log_divide = np.log(np.divide(data_y[i], data_pred[i])) * data_y[i]\n",
        "        self.fark_divide = np.subtract(data_pred[i], data_y[i])\n",
        "\n",
        "        self.sum = (self.log_divide + self.fark_divide) * 2\n",
        "        self.poi_diff.append(self.sum)\n",
        "\n",
        "      for j in self.poi_diff:\n",
        "\n",
        "        self.poi_result +=j\n",
        "      self.poi_result = np.divide(self.poi_result,len(data_pred))\n",
        "    else:\n",
        "      print(\"data_y and data_pred Shapes are not Same!\")\n",
        "    return f\"{self.poi_result}\"\n"
      ],
      "execution_count": null,
      "outputs": []
    },
    {
      "cell_type": "markdown",
      "metadata": {
        "id": "yNB4M5aFA6lA"
      },
      "source": [
        "# Linear Regression Model for Test"
      ]
    },
    {
      "cell_type": "code",
      "metadata": {
        "colab": {
          "base_uri": "https://localhost:8080/"
        },
        "id": "TuduvDgu_Njc",
        "outputId": "fc58e8b5-7367-4dc5-ac7d-1c2320c48451"
      },
      "source": [
        "from google.colab import drive\n",
        "\n",
        "drive.mount('/content/drive')"
      ],
      "execution_count": 1,
      "outputs": [
        {
          "output_type": "stream",
          "text": [
            "Mounted at /content/drive\n"
          ],
          "name": "stdout"
        }
      ]
    },
    {
      "cell_type": "code",
      "metadata": {
        "id": "pAZJIvy6A1An"
      },
      "source": [
        "import pandas as pd\n",
        "import warnings \n",
        "warnings.filterwarnings(\"ignore\")"
      ],
      "execution_count": 2,
      "outputs": []
    },
    {
      "cell_type": "code",
      "metadata": {
        "id": "qAh4EQRfArMw"
      },
      "source": [
        "df = pd.read_csv('/content/drive/My Drive/Colab Notebooks/column_2C_weka.csv')\n",
        "\n",
        "data = df.copy()"
      ],
      "execution_count": 3,
      "outputs": []
    },
    {
      "cell_type": "code",
      "metadata": {
        "colab": {
          "base_uri": "https://localhost:8080/",
          "height": 203
        },
        "id": "SFZYMixjK5Nt",
        "outputId": "fd8c5a33-e814-46dd-9acf-6bf46596aff3"
      },
      "source": [
        "data.head()"
      ],
      "execution_count": 4,
      "outputs": [
        {
          "output_type": "execute_result",
          "data": {
            "text/html": [
              "<div>\n",
              "<style scoped>\n",
              "    .dataframe tbody tr th:only-of-type {\n",
              "        vertical-align: middle;\n",
              "    }\n",
              "\n",
              "    .dataframe tbody tr th {\n",
              "        vertical-align: top;\n",
              "    }\n",
              "\n",
              "    .dataframe thead th {\n",
              "        text-align: right;\n",
              "    }\n",
              "</style>\n",
              "<table border=\"1\" class=\"dataframe\">\n",
              "  <thead>\n",
              "    <tr style=\"text-align: right;\">\n",
              "      <th></th>\n",
              "      <th>pelvic_incidence</th>\n",
              "      <th>pelvic_tilt numeric</th>\n",
              "      <th>lumbar_lordosis_angle</th>\n",
              "      <th>sacral_slope</th>\n",
              "      <th>pelvic_radius</th>\n",
              "      <th>degree_spondylolisthesis</th>\n",
              "      <th>class</th>\n",
              "    </tr>\n",
              "  </thead>\n",
              "  <tbody>\n",
              "    <tr>\n",
              "      <th>0</th>\n",
              "      <td>63.027818</td>\n",
              "      <td>22.552586</td>\n",
              "      <td>39.609117</td>\n",
              "      <td>40.475232</td>\n",
              "      <td>98.672917</td>\n",
              "      <td>-0.254400</td>\n",
              "      <td>Abnormal</td>\n",
              "    </tr>\n",
              "    <tr>\n",
              "      <th>1</th>\n",
              "      <td>39.056951</td>\n",
              "      <td>10.060991</td>\n",
              "      <td>25.015378</td>\n",
              "      <td>28.995960</td>\n",
              "      <td>114.405425</td>\n",
              "      <td>4.564259</td>\n",
              "      <td>Abnormal</td>\n",
              "    </tr>\n",
              "    <tr>\n",
              "      <th>2</th>\n",
              "      <td>68.832021</td>\n",
              "      <td>22.218482</td>\n",
              "      <td>50.092194</td>\n",
              "      <td>46.613539</td>\n",
              "      <td>105.985135</td>\n",
              "      <td>-3.530317</td>\n",
              "      <td>Abnormal</td>\n",
              "    </tr>\n",
              "    <tr>\n",
              "      <th>3</th>\n",
              "      <td>69.297008</td>\n",
              "      <td>24.652878</td>\n",
              "      <td>44.311238</td>\n",
              "      <td>44.644130</td>\n",
              "      <td>101.868495</td>\n",
              "      <td>11.211523</td>\n",
              "      <td>Abnormal</td>\n",
              "    </tr>\n",
              "    <tr>\n",
              "      <th>4</th>\n",
              "      <td>49.712859</td>\n",
              "      <td>9.652075</td>\n",
              "      <td>28.317406</td>\n",
              "      <td>40.060784</td>\n",
              "      <td>108.168725</td>\n",
              "      <td>7.918501</td>\n",
              "      <td>Abnormal</td>\n",
              "    </tr>\n",
              "  </tbody>\n",
              "</table>\n",
              "</div>"
            ],
            "text/plain": [
              "   pelvic_incidence  pelvic_tilt numeric  ...  degree_spondylolisthesis     class\n",
              "0         63.027818            22.552586  ...                 -0.254400  Abnormal\n",
              "1         39.056951            10.060991  ...                  4.564259  Abnormal\n",
              "2         68.832021            22.218482  ...                 -3.530317  Abnormal\n",
              "3         69.297008            24.652878  ...                 11.211523  Abnormal\n",
              "4         49.712859             9.652075  ...                  7.918501  Abnormal\n",
              "\n",
              "[5 rows x 7 columns]"
            ]
          },
          "metadata": {
            "tags": []
          },
          "execution_count": 4
        }
      ]
    },
    {
      "cell_type": "code",
      "metadata": {
        "colab": {
          "base_uri": "https://localhost:8080/"
        },
        "id": "npYOhQ4ZLYnp",
        "outputId": "99c5d504-b5c2-4aaf-be64-3ec4faa9f25f"
      },
      "source": [
        "data.info()"
      ],
      "execution_count": null,
      "outputs": [
        {
          "output_type": "stream",
          "text": [
            "<class 'pandas.core.frame.DataFrame'>\n",
            "RangeIndex: 310 entries, 0 to 309\n",
            "Data columns (total 7 columns):\n",
            " #   Column                    Non-Null Count  Dtype  \n",
            "---  ------                    --------------  -----  \n",
            " 0   pelvic_incidence          310 non-null    float64\n",
            " 1   pelvic_tilt numeric       310 non-null    float64\n",
            " 2   lumbar_lordosis_angle     310 non-null    float64\n",
            " 3   sacral_slope              310 non-null    float64\n",
            " 4   pelvic_radius             310 non-null    float64\n",
            " 5   degree_spondylolisthesis  310 non-null    float64\n",
            " 6   class                     310 non-null    object \n",
            "dtypes: float64(6), object(1)\n",
            "memory usage: 17.1+ KB\n"
          ],
          "name": "stdout"
        }
      ]
    },
    {
      "cell_type": "code",
      "metadata": {
        "colab": {
          "base_uri": "https://localhost:8080/",
          "height": 203
        },
        "id": "LknVle3LO8cO",
        "outputId": "8ec8542c-047b-4495-c861-fa5754850ea6"
      },
      "source": [
        "data['class'] = [1 if i=='Abnormal' else 0 for i in data['class']]\n",
        "\n",
        "data.head()"
      ],
      "execution_count": 5,
      "outputs": [
        {
          "output_type": "execute_result",
          "data": {
            "text/html": [
              "<div>\n",
              "<style scoped>\n",
              "    .dataframe tbody tr th:only-of-type {\n",
              "        vertical-align: middle;\n",
              "    }\n",
              "\n",
              "    .dataframe tbody tr th {\n",
              "        vertical-align: top;\n",
              "    }\n",
              "\n",
              "    .dataframe thead th {\n",
              "        text-align: right;\n",
              "    }\n",
              "</style>\n",
              "<table border=\"1\" class=\"dataframe\">\n",
              "  <thead>\n",
              "    <tr style=\"text-align: right;\">\n",
              "      <th></th>\n",
              "      <th>pelvic_incidence</th>\n",
              "      <th>pelvic_tilt numeric</th>\n",
              "      <th>lumbar_lordosis_angle</th>\n",
              "      <th>sacral_slope</th>\n",
              "      <th>pelvic_radius</th>\n",
              "      <th>degree_spondylolisthesis</th>\n",
              "      <th>class</th>\n",
              "    </tr>\n",
              "  </thead>\n",
              "  <tbody>\n",
              "    <tr>\n",
              "      <th>0</th>\n",
              "      <td>63.027818</td>\n",
              "      <td>22.552586</td>\n",
              "      <td>39.609117</td>\n",
              "      <td>40.475232</td>\n",
              "      <td>98.672917</td>\n",
              "      <td>-0.254400</td>\n",
              "      <td>1</td>\n",
              "    </tr>\n",
              "    <tr>\n",
              "      <th>1</th>\n",
              "      <td>39.056951</td>\n",
              "      <td>10.060991</td>\n",
              "      <td>25.015378</td>\n",
              "      <td>28.995960</td>\n",
              "      <td>114.405425</td>\n",
              "      <td>4.564259</td>\n",
              "      <td>1</td>\n",
              "    </tr>\n",
              "    <tr>\n",
              "      <th>2</th>\n",
              "      <td>68.832021</td>\n",
              "      <td>22.218482</td>\n",
              "      <td>50.092194</td>\n",
              "      <td>46.613539</td>\n",
              "      <td>105.985135</td>\n",
              "      <td>-3.530317</td>\n",
              "      <td>1</td>\n",
              "    </tr>\n",
              "    <tr>\n",
              "      <th>3</th>\n",
              "      <td>69.297008</td>\n",
              "      <td>24.652878</td>\n",
              "      <td>44.311238</td>\n",
              "      <td>44.644130</td>\n",
              "      <td>101.868495</td>\n",
              "      <td>11.211523</td>\n",
              "      <td>1</td>\n",
              "    </tr>\n",
              "    <tr>\n",
              "      <th>4</th>\n",
              "      <td>49.712859</td>\n",
              "      <td>9.652075</td>\n",
              "      <td>28.317406</td>\n",
              "      <td>40.060784</td>\n",
              "      <td>108.168725</td>\n",
              "      <td>7.918501</td>\n",
              "      <td>1</td>\n",
              "    </tr>\n",
              "  </tbody>\n",
              "</table>\n",
              "</div>"
            ],
            "text/plain": [
              "   pelvic_incidence  pelvic_tilt numeric  ...  degree_spondylolisthesis  class\n",
              "0         63.027818            22.552586  ...                 -0.254400      1\n",
              "1         39.056951            10.060991  ...                  4.564259      1\n",
              "2         68.832021            22.218482  ...                 -3.530317      1\n",
              "3         69.297008            24.652878  ...                 11.211523      1\n",
              "4         49.712859             9.652075  ...                  7.918501      1\n",
              "\n",
              "[5 rows x 7 columns]"
            ]
          },
          "metadata": {
            "tags": []
          },
          "execution_count": 5
        }
      ]
    },
    {
      "cell_type": "code",
      "metadata": {
        "colab": {
          "base_uri": "https://localhost:8080/"
        },
        "id": "PAN-7oBKPD1j",
        "outputId": "82251bb6-5f34-4f7f-d09d-dc272de9c069"
      },
      "source": [
        "y = data['pelvic_incidence']\n",
        "\n",
        "y.head()"
      ],
      "execution_count": 6,
      "outputs": [
        {
          "output_type": "execute_result",
          "data": {
            "text/plain": [
              "0    63.027818\n",
              "1    39.056951\n",
              "2    68.832021\n",
              "3    69.297008\n",
              "4    49.712859\n",
              "Name: pelvic_incidence, dtype: float64"
            ]
          },
          "metadata": {
            "tags": []
          },
          "execution_count": 6
        }
      ]
    },
    {
      "cell_type": "code",
      "metadata": {
        "colab": {
          "base_uri": "https://localhost:8080/",
          "height": 203
        },
        "id": "7jpnw_NMPHc3",
        "outputId": "0b3cbe0f-9120-4d32-8d4b-611e95cc0f9e"
      },
      "source": [
        "x = data.drop('pelvic_incidence',axis=1)\n",
        "\n",
        "x.head()"
      ],
      "execution_count": 7,
      "outputs": [
        {
          "output_type": "execute_result",
          "data": {
            "text/html": [
              "<div>\n",
              "<style scoped>\n",
              "    .dataframe tbody tr th:only-of-type {\n",
              "        vertical-align: middle;\n",
              "    }\n",
              "\n",
              "    .dataframe tbody tr th {\n",
              "        vertical-align: top;\n",
              "    }\n",
              "\n",
              "    .dataframe thead th {\n",
              "        text-align: right;\n",
              "    }\n",
              "</style>\n",
              "<table border=\"1\" class=\"dataframe\">\n",
              "  <thead>\n",
              "    <tr style=\"text-align: right;\">\n",
              "      <th></th>\n",
              "      <th>pelvic_tilt numeric</th>\n",
              "      <th>lumbar_lordosis_angle</th>\n",
              "      <th>sacral_slope</th>\n",
              "      <th>pelvic_radius</th>\n",
              "      <th>degree_spondylolisthesis</th>\n",
              "      <th>class</th>\n",
              "    </tr>\n",
              "  </thead>\n",
              "  <tbody>\n",
              "    <tr>\n",
              "      <th>0</th>\n",
              "      <td>22.552586</td>\n",
              "      <td>39.609117</td>\n",
              "      <td>40.475232</td>\n",
              "      <td>98.672917</td>\n",
              "      <td>-0.254400</td>\n",
              "      <td>1</td>\n",
              "    </tr>\n",
              "    <tr>\n",
              "      <th>1</th>\n",
              "      <td>10.060991</td>\n",
              "      <td>25.015378</td>\n",
              "      <td>28.995960</td>\n",
              "      <td>114.405425</td>\n",
              "      <td>4.564259</td>\n",
              "      <td>1</td>\n",
              "    </tr>\n",
              "    <tr>\n",
              "      <th>2</th>\n",
              "      <td>22.218482</td>\n",
              "      <td>50.092194</td>\n",
              "      <td>46.613539</td>\n",
              "      <td>105.985135</td>\n",
              "      <td>-3.530317</td>\n",
              "      <td>1</td>\n",
              "    </tr>\n",
              "    <tr>\n",
              "      <th>3</th>\n",
              "      <td>24.652878</td>\n",
              "      <td>44.311238</td>\n",
              "      <td>44.644130</td>\n",
              "      <td>101.868495</td>\n",
              "      <td>11.211523</td>\n",
              "      <td>1</td>\n",
              "    </tr>\n",
              "    <tr>\n",
              "      <th>4</th>\n",
              "      <td>9.652075</td>\n",
              "      <td>28.317406</td>\n",
              "      <td>40.060784</td>\n",
              "      <td>108.168725</td>\n",
              "      <td>7.918501</td>\n",
              "      <td>1</td>\n",
              "    </tr>\n",
              "  </tbody>\n",
              "</table>\n",
              "</div>"
            ],
            "text/plain": [
              "   pelvic_tilt numeric  lumbar_lordosis_angle  ...  degree_spondylolisthesis  class\n",
              "0            22.552586              39.609117  ...                 -0.254400      1\n",
              "1            10.060991              25.015378  ...                  4.564259      1\n",
              "2            22.218482              50.092194  ...                 -3.530317      1\n",
              "3            24.652878              44.311238  ...                 11.211523      1\n",
              "4             9.652075              28.317406  ...                  7.918501      1\n",
              "\n",
              "[5 rows x 6 columns]"
            ]
          },
          "metadata": {
            "tags": []
          },
          "execution_count": 7
        }
      ]
    },
    {
      "cell_type": "code",
      "metadata": {
        "id": "1-d619duPLTv"
      },
      "source": [
        "from sklearn.model_selection import train_test_split\n",
        "\n",
        "x_train,x_test,y_train,y_test = train_test_split(x,y,test_size=0.33,random_state=18)"
      ],
      "execution_count": 8,
      "outputs": []
    },
    {
      "cell_type": "code",
      "metadata": {
        "colab": {
          "base_uri": "https://localhost:8080/"
        },
        "id": "u4XlxO4mPLZb",
        "outputId": "54a3a7fd-aacf-4745-f230-412e1533f296"
      },
      "source": [
        "print(f\"x_train = {x_train.shape}\")\n",
        "print(f\"y_train = {y_train.shape}\")\n",
        "print(f\"x_test = {x_test.shape}\")\n",
        "print(f\"y_test = {y_test.shape}\")"
      ],
      "execution_count": 9,
      "outputs": [
        {
          "output_type": "stream",
          "text": [
            "x_train = (207, 6)\n",
            "y_train = (207,)\n",
            "x_test = (103, 6)\n",
            "y_test = (103,)\n"
          ],
          "name": "stdout"
        }
      ]
    },
    {
      "cell_type": "code",
      "metadata": {
        "id": "YXes2w-KP0gP"
      },
      "source": [
        "from sklearn.preprocessing import StandardScaler\n",
        "\n",
        "s_sca = StandardScaler()\n",
        "\n",
        "x_train = s_sca.fit_transform(x_train)\n",
        "x_test = s_sca.fit_transform(x_test)"
      ],
      "execution_count": 10,
      "outputs": []
    },
    {
      "cell_type": "code",
      "metadata": {
        "colab": {
          "base_uri": "https://localhost:8080/"
        },
        "id": "epSKpFpyPR8b",
        "outputId": "edfbb48e-c264-4d78-fff9-3f4893be6a86"
      },
      "source": [
        "from sklearn.linear_model import LinearRegression\n",
        "\n",
        "lr_model = LinearRegression()\n",
        "lr_model.fit(x_train,y_train)"
      ],
      "execution_count": 11,
      "outputs": [
        {
          "output_type": "execute_result",
          "data": {
            "text/plain": [
              "LinearRegression(copy_X=True, fit_intercept=True, n_jobs=None, normalize=False)"
            ]
          },
          "metadata": {
            "tags": []
          },
          "execution_count": 11
        }
      ]
    },
    {
      "cell_type": "code",
      "metadata": {
        "id": "nlBi_YIiPSDO"
      },
      "source": [
        "y_pred = lr_model.predict(x_test)"
      ],
      "execution_count": 12,
      "outputs": []
    },
    {
      "cell_type": "code",
      "metadata": {
        "colab": {
          "base_uri": "https://localhost:8080/"
        },
        "id": "yEGVK5D9PbjA",
        "outputId": "f7b50eb9-8dc3-4d49-8747-4480e36778dc"
      },
      "source": [
        "y_pred[:10]"
      ],
      "execution_count": 13,
      "outputs": [
        {
          "output_type": "execute_result",
          "data": {
            "text/plain": [
              "array([64.90827292, 72.24290221, 55.52005859, 56.41906524, 90.9093565 ,\n",
              "       76.1514183 , 40.2793302 , 54.63437969, 66.83104974, 58.8638718 ])"
            ]
          },
          "metadata": {
            "tags": []
          },
          "execution_count": 13
        }
      ]
    },
    {
      "cell_type": "code",
      "metadata": {
        "id": "6xgs2KSbU_Ca",
        "colab": {
          "base_uri": "https://localhost:8080/"
        },
        "outputId": "02c6b739-ced4-42b8-d83a-97b089b37c15"
      },
      "source": [
        "y_test"
      ],
      "execution_count": 15,
      "outputs": [
        {
          "output_type": "execute_result",
          "data": {
            "text/plain": [
              "307    61.446597\n",
              "201    67.513053\n",
              "134    52.204693\n",
              "6      53.432928\n",
              "224    89.834676\n",
              "         ...    \n",
              "48     40.557357\n",
              "52     50.209670\n",
              "140    69.563486\n",
              "294    46.236399\n",
              "169    44.253476\n",
              "Name: pelvic_incidence, Length: 103, dtype: float64"
            ]
          },
          "metadata": {
            "tags": []
          },
          "execution_count": 15
        }
      ]
    },
    {
      "cell_type": "code",
      "metadata": {
        "id": "KmdOlb6fPhM4",
        "colab": {
          "base_uri": "https://localhost:8080/"
        },
        "outputId": "b2b15063-c3b8-4938-dbb3-e4bddd131bd9"
      },
      "source": [
        "y_test_index = y_test.reset_index(drop=True)\n",
        "y_test_index"
      ],
      "execution_count": 17,
      "outputs": [
        {
          "output_type": "execute_result",
          "data": {
            "text/plain": [
              "0      61.446597\n",
              "1      67.513053\n",
              "2      52.204693\n",
              "3      53.432928\n",
              "4      89.834676\n",
              "         ...    \n",
              "98     40.557357\n",
              "99     50.209670\n",
              "100    69.563486\n",
              "101    46.236399\n",
              "102    44.253476\n",
              "Name: pelvic_incidence, Length: 103, dtype: float64"
            ]
          },
          "metadata": {
            "tags": []
          },
          "execution_count": 17
        }
      ]
    },
    {
      "cell_type": "markdown",
      "metadata": {
        "id": "LZoRJWg2UuXJ"
      },
      "source": [
        "# Random Forest Regression"
      ]
    },
    {
      "cell_type": "code",
      "metadata": {
        "colab": {
          "base_uri": "https://localhost:8080/"
        },
        "id": "MOFkZuUUUxQ3",
        "outputId": "0f8d865a-c66d-4731-ee32-7ce2b449d58d"
      },
      "source": [
        "from sklearn.ensemble import RandomForestRegressor\n",
        "\n",
        "ran_for = RandomForestRegressor(n_estimators = 10)\n",
        "\n",
        "ran_for.fit(x_train,y_train)"
      ],
      "execution_count": null,
      "outputs": [
        {
          "output_type": "execute_result",
          "data": {
            "text/plain": [
              "RandomForestRegressor(bootstrap=True, ccp_alpha=0.0, criterion='mse',\n",
              "                      max_depth=None, max_features='auto', max_leaf_nodes=None,\n",
              "                      max_samples=None, min_impurity_decrease=0.0,\n",
              "                      min_impurity_split=None, min_samples_leaf=1,\n",
              "                      min_samples_split=2, min_weight_fraction_leaf=0.0,\n",
              "                      n_estimators=10, n_jobs=None, oob_score=False,\n",
              "                      random_state=None, verbose=0, warm_start=False)"
            ]
          },
          "metadata": {
            "tags": []
          },
          "execution_count": 87
        }
      ]
    },
    {
      "cell_type": "code",
      "metadata": {
        "id": "6bEUGfljVLh0"
      },
      "source": [
        "y_pred_for = ran_for.predict(x_test)"
      ],
      "execution_count": null,
      "outputs": []
    },
    {
      "cell_type": "code",
      "metadata": {
        "colab": {
          "base_uri": "https://localhost:8080/"
        },
        "id": "2Pf63J-MVW1k",
        "outputId": "c63739df-1d29-4a47-d98b-95c5eb677cf7"
      },
      "source": [
        "y_pred_for[:10]"
      ],
      "execution_count": null,
      "outputs": [
        {
          "output_type": "execute_result",
          "data": {
            "text/plain": [
              "array([62.97517921, 69.96501934, 55.13344665, 53.91608999, 82.87248561,\n",
              "       76.08813907, 41.79316702, 57.59524012, 67.83965911, 55.96087222])"
            ]
          },
          "metadata": {
            "tags": []
          },
          "execution_count": 89
        }
      ]
    },
    {
      "cell_type": "code",
      "metadata": {
        "colab": {
          "base_uri": "https://localhost:8080/"
        },
        "id": "0_PgI4W2VbLE",
        "outputId": "463873ae-2c44-4ae9-e62a-8f98e5832ccb"
      },
      "source": [
        "mse_for = mean_squared_error(y_test_index,y_pred_for)\n",
        "r2_for =  r2_score(y_test_index,y_pred_for)\n",
        "\n",
        "mse_for_ky = ky.MeanSquared(y_test_index,y_pred_for)\n",
        "r2_for_ky = ky.R2Score(y_test_index,y_pred_for)\n",
        "\n",
        "print(f\"Mse Forest : {mse_for}\\nMse_KY Forest : {mse_for_ky}\\nR2_for : {r2_for}\\nR2_KY_for : {r2_for_ky}\")"
      ],
      "execution_count": null,
      "outputs": [
        {
          "output_type": "stream",
          "text": [
            "Mse Forest : 46.965035506383686\n",
            "Mse_KY Forest : 46.965035506383686\n",
            "R2_for : 0.8271756615110439\n",
            "R2_KY_for : 0.8293884826553675\n"
          ],
          "name": "stdout"
        }
      ]
    },
    {
      "cell_type": "markdown",
      "metadata": {
        "id": "zucGshArTjEx"
      },
      "source": [
        "# Sklearn.metrics Test"
      ]
    },
    {
      "cell_type": "code",
      "metadata": {
        "colab": {
          "base_uri": "https://localhost:8080/"
        },
        "id": "pF-xHd6tQNI9",
        "outputId": "c450cfd5-032b-41ea-c0e7-efe8e9b5207d"
      },
      "source": [
        "from sklearn.metrics import mean_squared_error,mean_absolute_error,mean_squared_log_error,r2_score\n",
        "from sklearn.metrics import explained_variance_score,max_error,mean_gamma_deviance,mean_poisson_deviance\n",
        "\n",
        "cache = {'Mean Squared Error':mean_squared_error(y_pred,y_test_index),\n",
        "         'Root Mean Squared Error':np.sqrt(mean_squared_error(y_pred,y_test_index)),\n",
        "         'Mean Absolute Error':mean_absolute_error(y_pred,y_test_index),\n",
        "         'Mean Squared Log Error':mean_squared_log_error(y_pred,y_test_index),\n",
        "         'R2 Score':r2_score(y_pred,y_test_index),\n",
        "         'Explained Variance Score':explained_variance_score(y_test_index,y_pred),\n",
        "         'Max Error':max_error(y_test_index,y_pred),\n",
        "         'Mean Gamma Deviance':mean_gamma_deviance(y_test_index,y_pred),\n",
        "         'Mean Poisson Deviance':mean_poisson_deviance(y_test_index,y_pred)\n",
        "         }\n",
        "\n",
        "keys = list(cache.keys())\n",
        "values = list(cache.values())\n",
        "\n",
        "for i,j in zip(keys,values):\n",
        "  print(i,\":\",j)"
      ],
      "execution_count": null,
      "outputs": [
        {
          "output_type": "stream",
          "text": [
            "Mean Squared Error : 9.321285836706835\n",
            "Root Mean Squared Error : 3.053078092140264\n",
            "Mean Absolute Error : 2.777415454704597\n",
            "Mean Squared Log Error : 0.0031785540149521867\n",
            "R2 Score : 0.9634837349456867\n",
            "Explained Variance Score : 0.9920341500623429\n",
            "Max Error : 7.340906549849862\n",
            "Mean Gamma Deviance : 0.003230534364389151\n",
            "Mean Poisson Deviance : 0.16692986067198978\n"
          ],
          "name": "stdout"
        }
      ]
    },
    {
      "cell_type": "markdown",
      "metadata": {
        "id": "gHy578EM4vuZ"
      },
      "source": [
        "# Ky.metrics Test"
      ]
    },
    {
      "cell_type": "code",
      "metadata": {
        "id": "I35ZqnyhQgbD"
      },
      "source": [
        "ky = KyMetrics()"
      ],
      "execution_count": null,
      "outputs": []
    },
    {
      "cell_type": "code",
      "metadata": {
        "colab": {
          "base_uri": "https://localhost:8080/"
        },
        "id": "L2NL3ojIQBZ0",
        "outputId": "2dbf08fc-2286-4003-b013-571300254df4"
      },
      "source": [
        "cache_ky = {'Mean Squared Error':ky.MeanSquared(y_test_index,y_pred),\n",
        "         'Root Mean Squared Error':ky.RootMeanSquared(y_test_index,y_pred),\n",
        "         'Mean Absolute Error':ky.MeanAbsoluteError(y_test_index,y_pred),\n",
        "         'Mean Sqaured Log Error':ky.MeanSquaredLog(y_test_index,y_pred),\n",
        "         'R2_Score':ky.R2Score(y_test_index,y_pred),\n",
        "         'Variance Score':ky.Variance_Score(y_test_index,y_pred),\n",
        "         'Max Error': ky.Max_Error(y_test_index,y_pred),\n",
        "         'Mean Gamma Deviance':ky.Mean_Gamma(y_test_index,y_pred),\n",
        "         'Mean Poisson Deviance':ky.Poisson_Deviance(y_test_index,y_pred)\n",
        "         }\n",
        "\n",
        "key = list(cache_ky.keys())\n",
        "value = list(cache_ky.values())\n",
        "\n",
        "for i,j in zip(key,value):\n",
        "  print(i,\":\",j)"
      ],
      "execution_count": null,
      "outputs": [
        {
          "output_type": "stream",
          "text": [
            "Mean Squared Error : 9.32128583670683\n",
            "Root Mean Squared Error : 3.053078092140263\n",
            "Mean Absolute Error : 2.777415454704596\n",
            "Mean Sqaured Log Error : 0.003178554014952188\n",
            "R2_Score : 0.966579195901584\n",
            "Variance Score : 0.9920341500623429\n",
            "Max Error : 7.340906549849862\n",
            "Mean Gamma Deviance : 0.0032305343643891375\n",
            "Mean Poisson Deviance : 0.16692986067199056\n"
          ],
          "name": "stdout"
        }
      ]
    }
  ]
}