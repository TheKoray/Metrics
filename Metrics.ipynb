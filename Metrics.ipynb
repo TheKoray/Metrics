{
  "nbformat": 4,
  "nbformat_minor": 0,
  "metadata": {
    "colab": {
      "name": "Metrics.ipynb",
      "provenance": [],
      "toc_visible": true,
      "authorship_tag": "ABX9TyP6m6G6wbtY0S9PsySpZl6U",
      "include_colab_link": true
    },
    "kernelspec": {
      "name": "python3",
      "display_name": "Python 3"
    },
    "language_info": {
      "name": "python"
    }
  },
  "cells": [
    {
      "cell_type": "markdown",
      "metadata": {
        "id": "view-in-github",
        "colab_type": "text"
      },
      "source": [
        "<a href=\"https://colab.research.google.com/github/TheKoray18/Metrics/blob/main/Metrics.ipynb\" target=\"_parent\"><img src=\"https://colab.research.google.com/assets/colab-badge.svg\" alt=\"Open In Colab\"/></a>"
      ]
    },
    {
      "cell_type": "code",
      "metadata": {
        "id": "dxqV4n54x9yO"
      },
      "source": [
        "import numpy as np"
      ],
      "execution_count": 18,
      "outputs": []
    },
    {
      "cell_type": "markdown",
      "metadata": {
        "id": "kLPhjs1fA2bw"
      },
      "source": [
        "# Metrics Class"
      ]
    },
    {
      "cell_type": "code",
      "metadata": {
        "id": "cgzQcuACz43j"
      },
      "source": [
        "class KyMetrics():\n",
        "\n",
        "  def MeanSquared(self,data_y,data_pred):\n",
        "\n",
        "    self.mse_diff = []\n",
        "    self.mse_sum = 0\n",
        "    self.mean_result = 0\n",
        "\n",
        "    if data_y.shape == data_pred.shape:\n",
        "\n",
        "      for i in range(len(data_pred)):\n",
        "\n",
        "        self.fark = np.subtract(data_y[i],data_pred[i])\n",
        "        self.mse_diff.append(np.power(self.fark,2))\n",
        "\n",
        "      for j in self.mse_diff:\n",
        "\n",
        "        self.mse_sum +=j\n",
        "      self.mean_result = np.divide(self.mse_sum,len(self.mse_diff))  \n",
        "\n",
        "    else:\n",
        "      print(f\"{'data_y'} and {'data_pred'} Shape is not same!\")    \n",
        "\n",
        "    return f\"{self.mean_result}\"\n",
        "    \n",
        "  def RootMeanSquared(self,data_y,data_pred):\n",
        "    \n",
        "    self.root_diff = []\n",
        "    self.root_sum = 0\n",
        "    self.root_result = 0\n",
        "\n",
        "    if data_y.shape == data_pred.shape:\n",
        "\n",
        "       for i in range(len(data_pred)):\n",
        "\n",
        "        self.fark = np.subtract(data_y[i],data_pred[i])\n",
        "        self.root_diff.append(np.power(self.fark,2))\n",
        "\n",
        "       for j in self.root_diff:\n",
        "         \n",
        "         self.root_sum +=j\n",
        "       self.root_result = np.divide(self.root_sum,len(self.root_diff))\n",
        "       self.root_result = np.sqrt(self.root_result)   \n",
        "\n",
        "    else:\n",
        "      print(\"data_y and data_pred Shapes are not Same!\")\n",
        "\n",
        "    return f\"{self.root_result}\"\n",
        "  \n",
        "  def MeanAbsoluteError(self,data_y,data_pred):\n",
        "\n",
        "    self.mae_diff = []\n",
        "    self.mae_sum = 0\n",
        "    self.absolute_result = 0\n",
        "\n",
        "    if data_y.shape == data_pred.shape:\n",
        "\n",
        "      for i in range(len(data_y)):\n",
        "\n",
        "        self.fark_mae = np.subtract(data_y[i],data_pred[i])\n",
        "        self.mae_diff.append(np.absolute(self.fark_mae))\n",
        "\n",
        "      for j in self.mae_diff:\n",
        "\n",
        "        self.mae_sum +=j\n",
        "      self.absolute_result = np.divide(self.mae_sum,len(data_y))\n",
        "      \n",
        "    else:\n",
        "      print(f\"{'data_y'} and {'data_pred'} Shape is not same!\")\n",
        "      \n",
        "    return f\"{self.absolute_result}\" \n",
        "\n",
        "  def MeanSquaredLog(self,data_y,data_pred):\n",
        "    self.log_diff = []\n",
        "    self.log_sum = 0\n",
        "    self.log_result = 0\n",
        "\n",
        "    if data_y.shape == data_pred.shape:\n",
        "\n",
        "      for i in range(len(data_pred)):\n",
        "\n",
        "        self.fark = np.subtract(np.log(data_y[i] + 1), np.log(data_pred[i] + 1))\n",
        "        self.log_diff.append(np.power(self.fark, 2))\n",
        "\n",
        "      for j in self.log_diff:\n",
        "\n",
        "        self.log_sum +=j\n",
        "      self.log_result = np.divide(self.log_sum, len(self.log_diff))\n",
        "\n",
        "    else:\n",
        "      print(\"data_y and data_pred Shape are not Same!\")\n",
        "\n",
        "    return f\"{self.log_result}\"  \n",
        "\n",
        "  def R2Score(self,data_y,data_pred):\n",
        "\n",
        "    self.r2_diff = []\n",
        "    self.r2_sum = 0\n",
        "    self.r2_result = 0\n",
        "    self.pred_ort = np.mean(data_pred)\n",
        "    self.ort_diff = []\n",
        "    self.ort_sum = 0\n",
        "    self.ort_result = 0\n",
        "\n",
        "    if data_y.shape == data_pred.shape:\n",
        "\n",
        "      for i in range(len(data_pred)):\n",
        "        self.fark = np.subtract(data_y[i], data_pred[i])\n",
        "        self.r2_diff.append(np.power(self.fark, 2))\n",
        "      \n",
        "      for j in self.r2_diff:\n",
        "        self.r2_sum +=j\n",
        "      self.r2_result = self.r2_sum\n",
        "\n",
        "      for k in range(len(data_pred)):\n",
        "        self.ort_fark = np.subtract(data_y[k], self.pred_ort)\n",
        "        self.ort_diff.append(np.power(self.ort_fark, 2))\n",
        "\n",
        "      for v in self.ort_diff:\n",
        "        self.ort_sum +=v\n",
        "      self.ort_result = self.ort_sum\n",
        "\n",
        "      self.R2_Score = np.subtract(1, np.divide(self.r2_result, self.ort_result))\n",
        "\n",
        "    else:\n",
        "      print(\"data_y and data_pred Shapes are not Same!\")\n",
        "\n",
        "    return f\"{self.R2_Score}\"\n",
        "  \n",
        "  def Variance_Score(self,data_y,data_pred):\n",
        "\n",
        "    if data_y.shape == data_pred.shape:\n",
        "      \n",
        "      self.fark_var = 0\n",
        "      self.var_data_y = np.var(data_y)\n",
        "      self.diff_var = []\n",
        "      self.diff_result = 0\n",
        "\n",
        "      for i in range(len(data_pred)):\n",
        "        \n",
        "        self.fark_var = np.subtract(data_y[i], data_pred[i])\n",
        "        self.diff_var.append(self.fark_var)\n",
        "        self.diff_result = np.var(self.diff_var)\n",
        "      self.var_result = np.subtract(1, np.divide(self.diff_result, self.var_data_y))\n",
        "    else:\n",
        "      print(\"data_y and data_pred Shapes ara not Same!\")\n",
        "    \n",
        "    return f\"{self.var_result}\"\n"
      ],
      "execution_count": 36,
      "outputs": []
    },
    {
      "cell_type": "markdown",
      "metadata": {
        "id": "yNB4M5aFA6lA"
      },
      "source": [
        "# Linear Regression Model for Test"
      ]
    },
    {
      "cell_type": "code",
      "metadata": {
        "colab": {
          "base_uri": "https://localhost:8080/"
        },
        "id": "TuduvDgu_Njc",
        "outputId": "7a91f055-32bb-4049-f81b-5b6158fe0be0"
      },
      "source": [
        "from google.colab import drive\n",
        "\n",
        "drive.mount('/content/drive')"
      ],
      "execution_count": 1,
      "outputs": [
        {
          "output_type": "stream",
          "text": [
            "Mounted at /content/drive\n"
          ],
          "name": "stdout"
        }
      ]
    },
    {
      "cell_type": "code",
      "metadata": {
        "id": "pAZJIvy6A1An"
      },
      "source": [
        "import pandas as pd\n",
        "import warnings \n",
        "warnings.filterwarnings(\"ignore\")"
      ],
      "execution_count": 2,
      "outputs": []
    },
    {
      "cell_type": "code",
      "metadata": {
        "id": "qAh4EQRfArMw"
      },
      "source": [
        "df = pd.read_csv('/content/drive/My Drive/Colab Notebooks/column_2C_weka.csv')\n",
        "\n",
        "data = df.copy()"
      ],
      "execution_count": 3,
      "outputs": []
    },
    {
      "cell_type": "code",
      "metadata": {
        "colab": {
          "base_uri": "https://localhost:8080/",
          "height": 241
        },
        "id": "SFZYMixjK5Nt",
        "outputId": "23b101ac-9007-49bf-8b4c-2414d70af675"
      },
      "source": [
        "data.head()"
      ],
      "execution_count": 4,
      "outputs": [
        {
          "output_type": "execute_result",
          "data": {
            "text/html": [
              "<div>\n",
              "<style scoped>\n",
              "    .dataframe tbody tr th:only-of-type {\n",
              "        vertical-align: middle;\n",
              "    }\n",
              "\n",
              "    .dataframe tbody tr th {\n",
              "        vertical-align: top;\n",
              "    }\n",
              "\n",
              "    .dataframe thead th {\n",
              "        text-align: right;\n",
              "    }\n",
              "</style>\n",
              "<table border=\"1\" class=\"dataframe\">\n",
              "  <thead>\n",
              "    <tr style=\"text-align: right;\">\n",
              "      <th></th>\n",
              "      <th>pelvic_incidence</th>\n",
              "      <th>pelvic_tilt numeric</th>\n",
              "      <th>lumbar_lordosis_angle</th>\n",
              "      <th>sacral_slope</th>\n",
              "      <th>pelvic_radius</th>\n",
              "      <th>degree_spondylolisthesis</th>\n",
              "      <th>class</th>\n",
              "    </tr>\n",
              "  </thead>\n",
              "  <tbody>\n",
              "    <tr>\n",
              "      <th>0</th>\n",
              "      <td>63.027818</td>\n",
              "      <td>22.552586</td>\n",
              "      <td>39.609117</td>\n",
              "      <td>40.475232</td>\n",
              "      <td>98.672917</td>\n",
              "      <td>-0.254400</td>\n",
              "      <td>Abnormal</td>\n",
              "    </tr>\n",
              "    <tr>\n",
              "      <th>1</th>\n",
              "      <td>39.056951</td>\n",
              "      <td>10.060991</td>\n",
              "      <td>25.015378</td>\n",
              "      <td>28.995960</td>\n",
              "      <td>114.405425</td>\n",
              "      <td>4.564259</td>\n",
              "      <td>Abnormal</td>\n",
              "    </tr>\n",
              "    <tr>\n",
              "      <th>2</th>\n",
              "      <td>68.832021</td>\n",
              "      <td>22.218482</td>\n",
              "      <td>50.092194</td>\n",
              "      <td>46.613539</td>\n",
              "      <td>105.985135</td>\n",
              "      <td>-3.530317</td>\n",
              "      <td>Abnormal</td>\n",
              "    </tr>\n",
              "    <tr>\n",
              "      <th>3</th>\n",
              "      <td>69.297008</td>\n",
              "      <td>24.652878</td>\n",
              "      <td>44.311238</td>\n",
              "      <td>44.644130</td>\n",
              "      <td>101.868495</td>\n",
              "      <td>11.211523</td>\n",
              "      <td>Abnormal</td>\n",
              "    </tr>\n",
              "    <tr>\n",
              "      <th>4</th>\n",
              "      <td>49.712859</td>\n",
              "      <td>9.652075</td>\n",
              "      <td>28.317406</td>\n",
              "      <td>40.060784</td>\n",
              "      <td>108.168725</td>\n",
              "      <td>7.918501</td>\n",
              "      <td>Abnormal</td>\n",
              "    </tr>\n",
              "  </tbody>\n",
              "</table>\n",
              "</div>"
            ],
            "text/plain": [
              "   pelvic_incidence  pelvic_tilt numeric  ...  degree_spondylolisthesis     class\n",
              "0         63.027818            22.552586  ...                 -0.254400  Abnormal\n",
              "1         39.056951            10.060991  ...                  4.564259  Abnormal\n",
              "2         68.832021            22.218482  ...                 -3.530317  Abnormal\n",
              "3         69.297008            24.652878  ...                 11.211523  Abnormal\n",
              "4         49.712859             9.652075  ...                  7.918501  Abnormal\n",
              "\n",
              "[5 rows x 7 columns]"
            ]
          },
          "metadata": {
            "tags": []
          },
          "execution_count": 4
        }
      ]
    },
    {
      "cell_type": "code",
      "metadata": {
        "colab": {
          "base_uri": "https://localhost:8080/"
        },
        "id": "npYOhQ4ZLYnp",
        "outputId": "cd5e147e-a4c3-4d7e-9828-95aaafd29744"
      },
      "source": [
        "data.info()"
      ],
      "execution_count": null,
      "outputs": [
        {
          "output_type": "stream",
          "text": [
            "<class 'pandas.core.frame.DataFrame'>\n",
            "RangeIndex: 310 entries, 0 to 309\n",
            "Data columns (total 7 columns):\n",
            " #   Column                    Non-Null Count  Dtype  \n",
            "---  ------                    --------------  -----  \n",
            " 0   pelvic_incidence          310 non-null    float64\n",
            " 1   pelvic_tilt numeric       310 non-null    float64\n",
            " 2   lumbar_lordosis_angle     310 non-null    float64\n",
            " 3   sacral_slope              310 non-null    float64\n",
            " 4   pelvic_radius             310 non-null    float64\n",
            " 5   degree_spondylolisthesis  310 non-null    float64\n",
            " 6   class                     310 non-null    object \n",
            "dtypes: float64(6), object(1)\n",
            "memory usage: 17.1+ KB\n"
          ],
          "name": "stdout"
        }
      ]
    },
    {
      "cell_type": "markdown",
      "metadata": {
        "id": "nz72IOC9LDrp"
      },
      "source": [
        "- numeric değişkenleri alma"
      ]
    },
    {
      "cell_type": "code",
      "metadata": {
        "colab": {
          "base_uri": "https://localhost:8080/"
        },
        "id": "dqsQyJdFLGbO",
        "outputId": "40a73309-f77e-40c1-d22e-b471f926f73c"
      },
      "source": [
        "num_columns = [col for col in data.columns if data[col].dtype == 'float64']\n",
        "\n",
        "num_columns"
      ],
      "execution_count": null,
      "outputs": [
        {
          "output_type": "execute_result",
          "data": {
            "text/plain": [
              "['pelvic_incidence',\n",
              " 'pelvic_tilt numeric',\n",
              " 'lumbar_lordosis_angle',\n",
              " 'sacral_slope',\n",
              " 'pelvic_radius',\n",
              " 'degree_spondylolisthesis']"
            ]
          },
          "metadata": {
            "tags": []
          },
          "execution_count": 7
        }
      ]
    },
    {
      "cell_type": "markdown",
      "metadata": {
        "id": "iu6xp40QLdsJ"
      },
      "source": [
        "- categoric değişkenleri alma"
      ]
    },
    {
      "cell_type": "code",
      "metadata": {
        "colab": {
          "base_uri": "https://localhost:8080/"
        },
        "id": "ieqSyuRqLcmV",
        "outputId": "26cf169d-d42d-4cfc-a125-13e17d80c935"
      },
      "source": [
        "cat_cols = [col for col in data.columns if data[col].dtype == 'object']\n",
        "\n",
        "cat_cols"
      ],
      "execution_count": null,
      "outputs": [
        {
          "output_type": "execute_result",
          "data": {
            "text/plain": [
              "['class']"
            ]
          },
          "metadata": {
            "tags": []
          },
          "execution_count": 8
        }
      ]
    },
    {
      "cell_type": "code",
      "metadata": {
        "colab": {
          "base_uri": "https://localhost:8080/",
          "height": 221
        },
        "id": "LknVle3LO8cO",
        "outputId": "3239544e-8839-4e66-8161-f8e60c68f125"
      },
      "source": [
        "data['class'] = [1 if i=='Abnormal' else 0 for i in data['class']]\n",
        "\n",
        "data.head()"
      ],
      "execution_count": 5,
      "outputs": [
        {
          "output_type": "execute_result",
          "data": {
            "text/html": [
              "<div>\n",
              "<style scoped>\n",
              "    .dataframe tbody tr th:only-of-type {\n",
              "        vertical-align: middle;\n",
              "    }\n",
              "\n",
              "    .dataframe tbody tr th {\n",
              "        vertical-align: top;\n",
              "    }\n",
              "\n",
              "    .dataframe thead th {\n",
              "        text-align: right;\n",
              "    }\n",
              "</style>\n",
              "<table border=\"1\" class=\"dataframe\">\n",
              "  <thead>\n",
              "    <tr style=\"text-align: right;\">\n",
              "      <th></th>\n",
              "      <th>pelvic_incidence</th>\n",
              "      <th>pelvic_tilt numeric</th>\n",
              "      <th>lumbar_lordosis_angle</th>\n",
              "      <th>sacral_slope</th>\n",
              "      <th>pelvic_radius</th>\n",
              "      <th>degree_spondylolisthesis</th>\n",
              "      <th>class</th>\n",
              "    </tr>\n",
              "  </thead>\n",
              "  <tbody>\n",
              "    <tr>\n",
              "      <th>0</th>\n",
              "      <td>63.027818</td>\n",
              "      <td>22.552586</td>\n",
              "      <td>39.609117</td>\n",
              "      <td>40.475232</td>\n",
              "      <td>98.672917</td>\n",
              "      <td>-0.254400</td>\n",
              "      <td>1</td>\n",
              "    </tr>\n",
              "    <tr>\n",
              "      <th>1</th>\n",
              "      <td>39.056951</td>\n",
              "      <td>10.060991</td>\n",
              "      <td>25.015378</td>\n",
              "      <td>28.995960</td>\n",
              "      <td>114.405425</td>\n",
              "      <td>4.564259</td>\n",
              "      <td>1</td>\n",
              "    </tr>\n",
              "    <tr>\n",
              "      <th>2</th>\n",
              "      <td>68.832021</td>\n",
              "      <td>22.218482</td>\n",
              "      <td>50.092194</td>\n",
              "      <td>46.613539</td>\n",
              "      <td>105.985135</td>\n",
              "      <td>-3.530317</td>\n",
              "      <td>1</td>\n",
              "    </tr>\n",
              "    <tr>\n",
              "      <th>3</th>\n",
              "      <td>69.297008</td>\n",
              "      <td>24.652878</td>\n",
              "      <td>44.311238</td>\n",
              "      <td>44.644130</td>\n",
              "      <td>101.868495</td>\n",
              "      <td>11.211523</td>\n",
              "      <td>1</td>\n",
              "    </tr>\n",
              "    <tr>\n",
              "      <th>4</th>\n",
              "      <td>49.712859</td>\n",
              "      <td>9.652075</td>\n",
              "      <td>28.317406</td>\n",
              "      <td>40.060784</td>\n",
              "      <td>108.168725</td>\n",
              "      <td>7.918501</td>\n",
              "      <td>1</td>\n",
              "    </tr>\n",
              "  </tbody>\n",
              "</table>\n",
              "</div>"
            ],
            "text/plain": [
              "   pelvic_incidence  pelvic_tilt numeric  ...  degree_spondylolisthesis  class\n",
              "0         63.027818            22.552586  ...                 -0.254400      1\n",
              "1         39.056951            10.060991  ...                  4.564259      1\n",
              "2         68.832021            22.218482  ...                 -3.530317      1\n",
              "3         69.297008            24.652878  ...                 11.211523      1\n",
              "4         49.712859             9.652075  ...                  7.918501      1\n",
              "\n",
              "[5 rows x 7 columns]"
            ]
          },
          "metadata": {
            "tags": []
          },
          "execution_count": 5
        }
      ]
    },
    {
      "cell_type": "code",
      "metadata": {
        "colab": {
          "base_uri": "https://localhost:8080/"
        },
        "id": "PAN-7oBKPD1j",
        "outputId": "15edf0b0-21fa-49d6-aca9-580e68367fe3"
      },
      "source": [
        "y = data['pelvic_incidence']\n",
        "\n",
        "y.head()"
      ],
      "execution_count": 6,
      "outputs": [
        {
          "output_type": "execute_result",
          "data": {
            "text/plain": [
              "0    63.027818\n",
              "1    39.056951\n",
              "2    68.832021\n",
              "3    69.297008\n",
              "4    49.712859\n",
              "Name: pelvic_incidence, dtype: float64"
            ]
          },
          "metadata": {
            "tags": []
          },
          "execution_count": 6
        }
      ]
    },
    {
      "cell_type": "code",
      "metadata": {
        "colab": {
          "base_uri": "https://localhost:8080/",
          "height": 204
        },
        "id": "7jpnw_NMPHc3",
        "outputId": "8979f080-6b47-465d-8d3c-4a6c1c4363ac"
      },
      "source": [
        "x = data.drop('pelvic_incidence',axis=1)\n",
        "\n",
        "x.head()"
      ],
      "execution_count": 7,
      "outputs": [
        {
          "output_type": "execute_result",
          "data": {
            "text/html": [
              "<div>\n",
              "<style scoped>\n",
              "    .dataframe tbody tr th:only-of-type {\n",
              "        vertical-align: middle;\n",
              "    }\n",
              "\n",
              "    .dataframe tbody tr th {\n",
              "        vertical-align: top;\n",
              "    }\n",
              "\n",
              "    .dataframe thead th {\n",
              "        text-align: right;\n",
              "    }\n",
              "</style>\n",
              "<table border=\"1\" class=\"dataframe\">\n",
              "  <thead>\n",
              "    <tr style=\"text-align: right;\">\n",
              "      <th></th>\n",
              "      <th>pelvic_tilt numeric</th>\n",
              "      <th>lumbar_lordosis_angle</th>\n",
              "      <th>sacral_slope</th>\n",
              "      <th>pelvic_radius</th>\n",
              "      <th>degree_spondylolisthesis</th>\n",
              "      <th>class</th>\n",
              "    </tr>\n",
              "  </thead>\n",
              "  <tbody>\n",
              "    <tr>\n",
              "      <th>0</th>\n",
              "      <td>22.552586</td>\n",
              "      <td>39.609117</td>\n",
              "      <td>40.475232</td>\n",
              "      <td>98.672917</td>\n",
              "      <td>-0.254400</td>\n",
              "      <td>1</td>\n",
              "    </tr>\n",
              "    <tr>\n",
              "      <th>1</th>\n",
              "      <td>10.060991</td>\n",
              "      <td>25.015378</td>\n",
              "      <td>28.995960</td>\n",
              "      <td>114.405425</td>\n",
              "      <td>4.564259</td>\n",
              "      <td>1</td>\n",
              "    </tr>\n",
              "    <tr>\n",
              "      <th>2</th>\n",
              "      <td>22.218482</td>\n",
              "      <td>50.092194</td>\n",
              "      <td>46.613539</td>\n",
              "      <td>105.985135</td>\n",
              "      <td>-3.530317</td>\n",
              "      <td>1</td>\n",
              "    </tr>\n",
              "    <tr>\n",
              "      <th>3</th>\n",
              "      <td>24.652878</td>\n",
              "      <td>44.311238</td>\n",
              "      <td>44.644130</td>\n",
              "      <td>101.868495</td>\n",
              "      <td>11.211523</td>\n",
              "      <td>1</td>\n",
              "    </tr>\n",
              "    <tr>\n",
              "      <th>4</th>\n",
              "      <td>9.652075</td>\n",
              "      <td>28.317406</td>\n",
              "      <td>40.060784</td>\n",
              "      <td>108.168725</td>\n",
              "      <td>7.918501</td>\n",
              "      <td>1</td>\n",
              "    </tr>\n",
              "  </tbody>\n",
              "</table>\n",
              "</div>"
            ],
            "text/plain": [
              "   pelvic_tilt numeric  lumbar_lordosis_angle  ...  degree_spondylolisthesis  class\n",
              "0            22.552586              39.609117  ...                 -0.254400      1\n",
              "1            10.060991              25.015378  ...                  4.564259      1\n",
              "2            22.218482              50.092194  ...                 -3.530317      1\n",
              "3            24.652878              44.311238  ...                 11.211523      1\n",
              "4             9.652075              28.317406  ...                  7.918501      1\n",
              "\n",
              "[5 rows x 6 columns]"
            ]
          },
          "metadata": {
            "tags": []
          },
          "execution_count": 7
        }
      ]
    },
    {
      "cell_type": "code",
      "metadata": {
        "id": "1-d619duPLTv"
      },
      "source": [
        "from sklearn.model_selection import train_test_split\n",
        "\n",
        "x_train,x_test,y_train,y_test = train_test_split(x,y,test_size=0.33,random_state=18)"
      ],
      "execution_count": 8,
      "outputs": []
    },
    {
      "cell_type": "code",
      "metadata": {
        "colab": {
          "base_uri": "https://localhost:8080/"
        },
        "id": "u4XlxO4mPLZb",
        "outputId": "c5a582f4-022e-46d5-ec01-a4b24ac99658"
      },
      "source": [
        "print(f\"x_train = {x_train.shape}\")\n",
        "print(f\"y_train = {y_train.shape}\")\n",
        "print(f\"x_test = {x_test.shape}\")\n",
        "print(f\"y_test = {y_test.shape}\")"
      ],
      "execution_count": 9,
      "outputs": [
        {
          "output_type": "stream",
          "text": [
            "x_train = (207, 6)\n",
            "y_train = (207,)\n",
            "x_test = (103, 6)\n",
            "y_test = (103,)\n"
          ],
          "name": "stdout"
        }
      ]
    },
    {
      "cell_type": "code",
      "metadata": {
        "id": "YXes2w-KP0gP"
      },
      "source": [
        "from sklearn.preprocessing import StandardScaler\n",
        "\n",
        "s_sca = StandardScaler()\n",
        "\n",
        "x_train = s_sca.fit_transform(x_train)\n",
        "x_test = s_sca.fit_transform(x_test)"
      ],
      "execution_count": 10,
      "outputs": []
    },
    {
      "cell_type": "code",
      "metadata": {
        "colab": {
          "base_uri": "https://localhost:8080/"
        },
        "id": "epSKpFpyPR8b",
        "outputId": "a9beeac0-10be-4fbc-c19d-016a390a357e"
      },
      "source": [
        "from sklearn.linear_model import LinearRegression\n",
        "\n",
        "lr_model = LinearRegression()\n",
        "lr_model.fit(x_train,y_train)"
      ],
      "execution_count": 11,
      "outputs": [
        {
          "output_type": "execute_result",
          "data": {
            "text/plain": [
              "LinearRegression(copy_X=True, fit_intercept=True, n_jobs=None, normalize=False)"
            ]
          },
          "metadata": {
            "tags": []
          },
          "execution_count": 11
        }
      ]
    },
    {
      "cell_type": "code",
      "metadata": {
        "id": "nlBi_YIiPSDO"
      },
      "source": [
        "y_pred = lr_model.predict(x_test)"
      ],
      "execution_count": 12,
      "outputs": []
    },
    {
      "cell_type": "code",
      "metadata": {
        "colab": {
          "base_uri": "https://localhost:8080/"
        },
        "id": "yEGVK5D9PbjA",
        "outputId": "428082dc-0a80-46dd-9243-eb6f89d4c7c1"
      },
      "source": [
        "y_pred[:10]"
      ],
      "execution_count": 13,
      "outputs": [
        {
          "output_type": "execute_result",
          "data": {
            "text/plain": [
              "array([64.90827292, 72.24290221, 55.52005859, 56.41906524, 90.9093565 ,\n",
              "       76.1514183 , 40.2793302 , 54.63437969, 66.83104974, 58.8638718 ])"
            ]
          },
          "metadata": {
            "tags": []
          },
          "execution_count": 13
        }
      ]
    },
    {
      "cell_type": "code",
      "metadata": {
        "colab": {
          "base_uri": "https://localhost:8080/"
        },
        "id": "WBg3AHsiUKG2",
        "outputId": "187b0da1-fc3b-471e-d633-c7618ba74cd4"
      },
      "source": [
        "type(y_pred)"
      ],
      "execution_count": 14,
      "outputs": [
        {
          "output_type": "execute_result",
          "data": {
            "text/plain": [
              "numpy.ndarray"
            ]
          },
          "metadata": {
            "tags": []
          },
          "execution_count": 14
        }
      ]
    },
    {
      "cell_type": "code",
      "metadata": {
        "colab": {
          "base_uri": "https://localhost:8080/"
        },
        "id": "NbZOTPqTV5eg",
        "outputId": "0517e01b-6ce0-41ce-a4da-9dba40c42710"
      },
      "source": [
        "zero_index = np.where(y_pred == 60)\n",
        "\n",
        "zero_index"
      ],
      "execution_count": null,
      "outputs": [
        {
          "output_type": "execute_result",
          "data": {
            "text/plain": [
              "(array([], dtype=int64),)"
            ]
          },
          "metadata": {
            "tags": []
          },
          "execution_count": 21
        }
      ]
    },
    {
      "cell_type": "code",
      "metadata": {
        "id": "6xgs2KSbU_Ca",
        "colab": {
          "base_uri": "https://localhost:8080/"
        },
        "outputId": "5877d0c7-c74c-4b64-a5c6-c6b5eeaf11b1"
      },
      "source": [
        "y_test"
      ],
      "execution_count": 15,
      "outputs": [
        {
          "output_type": "execute_result",
          "data": {
            "text/plain": [
              "307    61.446597\n",
              "201    67.513053\n",
              "134    52.204693\n",
              "6      53.432928\n",
              "224    89.834676\n",
              "         ...    \n",
              "48     40.557357\n",
              "52     50.209670\n",
              "140    69.563486\n",
              "294    46.236399\n",
              "169    44.253476\n",
              "Name: pelvic_incidence, Length: 103, dtype: float64"
            ]
          },
          "metadata": {
            "tags": []
          },
          "execution_count": 15
        }
      ]
    },
    {
      "cell_type": "code",
      "metadata": {
        "colab": {
          "base_uri": "https://localhost:8080/"
        },
        "id": "vpQXmPnQeVAm",
        "outputId": "e67d5313-dd41-485c-e10b-60d869df4b62"
      },
      "source": [
        "type(y_test)"
      ],
      "execution_count": null,
      "outputs": [
        {
          "output_type": "execute_result",
          "data": {
            "text/plain": [
              "pandas.core.series.Series"
            ]
          },
          "metadata": {
            "tags": []
          },
          "execution_count": 23
        }
      ]
    },
    {
      "cell_type": "code",
      "metadata": {
        "id": "KmdOlb6fPhM4",
        "colab": {
          "base_uri": "https://localhost:8080/"
        },
        "outputId": "abc7c5fe-09ec-4ded-a550-18341158799e"
      },
      "source": [
        "y_test_index = y_test.reset_index(drop=True)\n",
        "y_test_index"
      ],
      "execution_count": 16,
      "outputs": [
        {
          "output_type": "execute_result",
          "data": {
            "text/plain": [
              "0      61.446597\n",
              "1      67.513053\n",
              "2      52.204693\n",
              "3      53.432928\n",
              "4      89.834676\n",
              "         ...    \n",
              "98     40.557357\n",
              "99     50.209670\n",
              "100    69.563486\n",
              "101    46.236399\n",
              "102    44.253476\n",
              "Name: pelvic_incidence, Length: 103, dtype: float64"
            ]
          },
          "metadata": {
            "tags": []
          },
          "execution_count": 16
        }
      ]
    },
    {
      "cell_type": "markdown",
      "metadata": {
        "id": "LZoRJWg2UuXJ"
      },
      "source": [
        "# Random Forest Regression"
      ]
    },
    {
      "cell_type": "code",
      "metadata": {
        "colab": {
          "base_uri": "https://localhost:8080/"
        },
        "id": "MOFkZuUUUxQ3",
        "outputId": "f6be3aca-dc12-49ac-9755-23c494ccc390"
      },
      "source": [
        "from sklearn.ensemble import RandomForestRegressor\n",
        "\n",
        "ran_for = RandomForestRegressor(n_estimators = 10)\n",
        "\n",
        "ran_for.fit(x_train,y_train)"
      ],
      "execution_count": null,
      "outputs": [
        {
          "output_type": "execute_result",
          "data": {
            "text/plain": [
              "RandomForestRegressor(bootstrap=True, ccp_alpha=0.0, criterion='mse',\n",
              "                      max_depth=None, max_features='auto', max_leaf_nodes=None,\n",
              "                      max_samples=None, min_impurity_decrease=0.0,\n",
              "                      min_impurity_split=None, min_samples_leaf=1,\n",
              "                      min_samples_split=2, min_weight_fraction_leaf=0.0,\n",
              "                      n_estimators=10, n_jobs=None, oob_score=False,\n",
              "                      random_state=None, verbose=0, warm_start=False)"
            ]
          },
          "metadata": {
            "tags": []
          },
          "execution_count": 25
        }
      ]
    },
    {
      "cell_type": "code",
      "metadata": {
        "id": "6bEUGfljVLh0"
      },
      "source": [
        "y_pred_for = ran_for.predict(x_test)"
      ],
      "execution_count": null,
      "outputs": []
    },
    {
      "cell_type": "code",
      "metadata": {
        "colab": {
          "base_uri": "https://localhost:8080/"
        },
        "id": "2Pf63J-MVW1k",
        "outputId": "6a030e5d-aeaf-44ac-bea9-be0e7d5bbbe3"
      },
      "source": [
        "y_pred_for[:10]"
      ],
      "execution_count": null,
      "outputs": [
        {
          "output_type": "execute_result",
          "data": {
            "text/plain": [
              "array([64.08021498, 69.93876061, 59.81860033, 56.28147982, 82.23967615,\n",
              "       71.06025928, 42.72377179, 64.17011226, 69.35252738, 55.50715572])"
            ]
          },
          "metadata": {
            "tags": []
          },
          "execution_count": 42
        }
      ]
    },
    {
      "cell_type": "code",
      "metadata": {
        "colab": {
          "base_uri": "https://localhost:8080/"
        },
        "id": "0_PgI4W2VbLE",
        "outputId": "14acc3b5-f34f-4247-ff79-4bd9c8eb4707"
      },
      "source": [
        "mse_for = mean_squared_error(y_test_index,y_pred_for)\n",
        "r2_for =  r2_score(y_test_index,y_pred_for)\n",
        "\n",
        "mse_for_ky = ky.MeanSquared(y_test_index,y_pred_for)\n",
        "r2_for_ky = ky.R2Score(y_test_index,y_pred_for)\n",
        "\n",
        "print(f\"Mse Forest : {mse_for}\\nMse_KY Forest : {mse_for_ky}\\nR2_for : {r2_for}\\nR2_KY_for : {r2_for_ky}\")"
      ],
      "execution_count": null,
      "outputs": [
        {
          "output_type": "stream",
          "text": [
            "Mse Forest : 40.465947299340264\n",
            "Mse_KY Forest : 40.46594729934026\n",
            "R2_for : 0.851091338525937\n",
            "R2_KY_for : 0.8526931165692836\n"
          ],
          "name": "stdout"
        }
      ]
    },
    {
      "cell_type": "markdown",
      "metadata": {
        "id": "zucGshArTjEx"
      },
      "source": [
        "# Sklearn.metrics Test"
      ]
    },
    {
      "cell_type": "code",
      "metadata": {
        "colab": {
          "base_uri": "https://localhost:8080/"
        },
        "id": "pF-xHd6tQNI9",
        "outputId": "a1086fdf-b6c0-4f24-8ace-2c1862710ad3"
      },
      "source": [
        "from sklearn.metrics import mean_squared_error,mean_absolute_error,mean_squared_log_error,r2_score\n",
        "from sklearn.metrics import explained_variance_score\n",
        "\n",
        "\n",
        "mse = mean_squared_error(y_pred,y_test_index)\n",
        "\n",
        "rmse = np.sqrt(mse)\n",
        "\n",
        "mae = mean_absolute_error(y_pred,y_test_index)\n",
        "\n",
        "msle = mean_squared_log_error(y_pred,y_test_index)\n",
        "\n",
        "r2 = r2_score(y_pred,y_test_index)\n",
        "\n",
        "evs = explained_variance_score(y_test_index,y_pred)\n",
        "\n",
        "cache = {'Mean Squared Error':mse,\n",
        "         'Root Mean Squared Error':rmse,\n",
        "         'Mean Absolute Error':mae,\n",
        "         'Mean Squared Log Error':msle,\n",
        "         'R2 Score':r2,\n",
        "         'Explained Variance Score':evs\n",
        "         }\n",
        "\n",
        "keys = list(cache.keys())\n",
        "values = list(cache.values())\n",
        "\n",
        "for i,j in zip(keys,values):\n",
        "  print(i,\":\",j)"
      ],
      "execution_count": 19,
      "outputs": [
        {
          "output_type": "stream",
          "text": [
            "Mean Squared Error : 9.321285836706835\n",
            "Root Mean Squared Error : 3.053078092140264\n",
            "Mean Absolute Error : 2.777415454704597\n",
            "Mean Squared Log Error : 0.0031785540149521867\n",
            "R2 Score : 0.9634837349456867\n",
            "Explained Variance Score : 0.9920341500623429\n"
          ],
          "name": "stdout"
        }
      ]
    },
    {
      "cell_type": "markdown",
      "metadata": {
        "id": "gHy578EM4vuZ"
      },
      "source": [
        "# Ky.metrics Test"
      ]
    },
    {
      "cell_type": "code",
      "metadata": {
        "id": "I35ZqnyhQgbD"
      },
      "source": [
        "ky = KyMetrics()"
      ],
      "execution_count": 37,
      "outputs": []
    },
    {
      "cell_type": "code",
      "metadata": {
        "colab": {
          "base_uri": "https://localhost:8080/"
        },
        "id": "PUYK7Okh46FW",
        "outputId": "3bf1d66a-4fd9-4bea-d17c-68c95ba425a9"
      },
      "source": [
        "ky_mse = ky.MeanSquared(y_test_index,y_pred)\n",
        "ky_rmse = ky.RootMeanSquared(y_test_index,y_pred)\n",
        "ky_mae = ky.MeanAbsoluteError(y_test_index,y_pred)\n",
        "ky_mle = ky.MeanSquaredLog(y_test_index,y_pred)\n",
        "ky_r2_score = ky.R2Score(y_test_index,y_pred)\n",
        "ky_var_score = ky.Variance_Score(y_test_index,y_pred)\n",
        "\n",
        "cache_ky = {'Mean Squared Error':ky_mse,\n",
        "         'Root Mean Squared Error':ky_rmse,\n",
        "         'Mean Absolute Error':ky_mae,\n",
        "         'Mean Sqaured Log Error':ky_mle,\n",
        "         'R2_Score':ky_r2_score,\n",
        "         'Variance Score':ky_var_score\n",
        "         }\n",
        "\n",
        "keys_ky = list(cache_ky.keys())\n",
        "values_ky = list(cache_ky.values())\n",
        "\n",
        "for i,j in zip(keys_ky,values_ky):\n",
        "  print(i,\":\",j) "
      ],
      "execution_count": 38,
      "outputs": [
        {
          "output_type": "stream",
          "text": [
            "Mean Squared Error : 9.32128583670683\n",
            "Root Mean Squared Error : 3.053078092140263\n",
            "Mean Absolute Error : 2.777415454704596\n",
            "Mean Sqaured Log Error : 0.003178554014952188\n",
            "R2_Score : 0.966579195901584\n",
            "Variance Score : 0.9920341500623429\n"
          ],
          "name": "stdout"
        }
      ]
    }
  ]
}